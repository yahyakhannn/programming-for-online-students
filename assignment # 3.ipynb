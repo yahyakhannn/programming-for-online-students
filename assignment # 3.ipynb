{
 "cells": [
  {
   "cell_type": "code",
   "execution_count": 1,
   "metadata": {},
   "outputs": [
    {
     "name": "stdout",
     "output_type": "stream",
     "text": [
      "1\n",
      "2\n",
      "2\n",
      "3\n",
      "3\n",
      "4\n",
      "5\n",
      "5\n",
      "7\n"
     ]
    }
   ],
   "source": [
    "\n",
    "#Program for identifing duplicate values\n",
    "list1 = [1,2,3,4,9,5,6,1,5,4,3,9,8,7,2,3,5,2,7]\n",
    "list1.sort()\n",
    "for i in range(len(list1)-2):\n",
    "    if list1[i]==list1[i+1]:\n",
    "        #print(str(list1[i]))\n",
    "        print(str(list1[i+1]))"
   ]
  },
  {
   "cell_type": "code",
   "execution_count": 2,
   "metadata": {},
   "outputs": [
    {
     "name": "stdout",
     "output_type": "stream",
     "text": [
      "1\n",
      "4\n",
      "5\n"
     ]
    }
   ],
   "source": [
    "#This program will determine the data type of the index in the list\n",
    "list1 = [1,\"2\",\"three\",4,5,\"06\",\"SEVEN\"]\n",
    "for i in range(len(list1)-1):\n",
    "    if type(list1[i])== int:\n",
    "        print(list1[i])"
   ]
  },
  {
   "cell_type": "code",
   "execution_count": 3,
   "metadata": {},
   "outputs": [
    {
     "name": "stdout",
     "output_type": "stream",
     "text": [
      "9\n"
     ]
    }
   ],
   "source": [
    "dict = {0:1,1:\"two\",2:3,4:\"5\",5:5}\n",
    "sum = 0\n",
    "for val in dict.values():\n",
    "    if type(val)== int:\n",
    "       sum = sum + val\n",
    "print(sum)"
   ]
  },
  {
   "cell_type": "code",
   "execution_count": 4,
   "metadata": {},
   "outputs": [
    {
     "name": "stdout",
     "output_type": "stream",
     "text": [
      "Enter first number2\n",
      "Enter second number4\n",
      "Enter operator+\n",
      "6\n"
     ]
    }
   ],
   "source": [
    "#Calculator\n",
    "num1 = int(input(\"Enter first number\"))\n",
    "num2 = int(input(\"Enter second number\"))\n",
    "opr = input(\"Enter operator\")\n",
    "if opr == \"+\":\n",
    "    print(num1+num2)\n",
    "elif opr == \"-\":\n",
    "    print(num1-num2)\n",
    "elif opr == \"*\":\n",
    "    print(num1*num2)\n",
    "elif opr == \"/\":\n",
    "    print(num1/num2)\n",
    "elif opr == \"^\":\n",
    "    print(num1**num2)\n",
    "else:\n",
    "    print(\"Invalid operator\")"
   ]
  },
  {
   "cell_type": "code",
   "execution_count": 5,
   "metadata": {},
   "outputs": [
    {
     "name": "stdout",
     "output_type": "stream",
     "text": [
      "{'wwe': 'xyz'}\n"
     ]
    }
   ],
   "source": [
    "#Adding key to dictionary\n",
    "dict = {}\n",
    "dict[\"wwe\"]=\"xyz\"\n",
    "print(dict)"
   ]
  },
  {
   "cell_type": "code",
   "execution_count": 7,
   "metadata": {},
   "outputs": [
    {
     "name": "stdout",
     "output_type": "stream",
     "text": [
      "Enter the keyabc\n",
      "Key status for search: True\n"
     ]
    }
   ],
   "source": [
    "#Searching\n",
    "dict1 = {\"abc\":\"xyz\",\"pqr\":123,\"1\":\"two\",\"2\":3,\"xyz\":\"abc\"}\n",
    "check = False\n",
    "keyToSearch=input(\"Enter the key\")\n",
    "for key in dict1.keys():\n",
    "    if key == keyToSearch:\n",
    "        check = True\n",
    "        break\n",
    "print(\"Key status for search: \" + str(check))"
   ]
  },
  {
   "cell_type": "code",
   "execution_count": null,
   "metadata": {},
   "outputs": [],
   "source": []
  }
 ],
 "metadata": {
  "kernelspec": {
   "display_name": "Python 3",
   "language": "python",
   "name": "python3"
  },
  "language_info": {
   "codemirror_mode": {
    "name": "ipython",
    "version": 3
   },
   "file_extension": ".py",
   "mimetype": "text/x-python",
   "name": "python",
   "nbconvert_exporter": "python",
   "pygments_lexer": "ipython3",
   "version": "3.7.4"
  }
 },
 "nbformat": 4,
 "nbformat_minor": 2
}
